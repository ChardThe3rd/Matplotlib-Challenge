{
 "cells": [
  {
   "cell_type": "markdown",
   "metadata": {},
   "source": [
    "The Power of Plots - Observable Trends\n",
    "\n",
    "*   Capomulin was the most successful at treating the tumors in this population of mice. It was the only treatment of those analyzed to actually reduce the total tumor volume over the course of treatment. Additionally, survival rate was significantly higher compared to the other treatments. It should be noted that metastatic sites still increased over time, but at a rate slower than the other treatments.\n",
    "\n",
    "* Some of the other treatments were arguably less effective than no treatment (Placebo). Ketapril, in particular, was less effective at treating tumor volume than the placebo medication. The growth of metastatic sites for placebo treated mice and ketapril treated mice were indistinguishable given how their errors overlapped. This leads one to believe that Ketapril is not an effective method of treatment.\n",
    "\n",
    "* Infubinol, on the one hand, had a similar trend of treating the tumor volume to Ketapril and the placebo and it was the deadliest drug with the lowest survival rate. On the other hand, it led to fewer metastatic sites than both ketapril and placebo. Infubinol, at least, was potentially more effecive than the placebo and warrants some further investigation and alteration."
   ]
  },
  {
   "cell_type": "code",
   "execution_count": null,
   "metadata": {},
   "outputs": [],
   "source": [
    "# Dependencies and Setup\n",
    "%matplotlib inline\n",
    "import matplotlib.pyplot as plt\n",
    "import pandas as pd\n",
    "import numpy as np\n",
    "from scipy import stats\n",
    "\n",
    "# Hide warning messages in notebook\n",
    "import warnings\n",
    "warnings.filterwarnings('ignore')\n",
    "\n",
    "# File to Load (Remember to Change These)\n",
    "mouse_drug_data = pd.read_csv(\"data/mouse_drug_data.csv\")\n",
    "clinical_trial_data = pd.read_csv(\"data/clinicaltrial_data.csv\")\n",
    "\n",
    "# Read the Mouse and Drug Data and the Clinical Trial Data\n",
    "mouse_drug_data[\"Mouse ID\"].value_counts()\n",
    "clinical_trial_data[\"Mouse ID\"].value_counts()\n",
    "\n",
    "g989Drug = mouse_drug_data.loc[mouse_drug_data[\"Mouse ID\"] == \"g989\", :]\n",
    "g989Drug #each g989 has a diffrent drug\n",
    "\n",
    "g989Trial = clinical_trial_data.loc[clinical_trial_data[\"Mouse ID\"] == \"g989\", :]\n",
    "g989Trial\n",
    "\n",
    "clean_mouse_drug_data = mouse_drug_data.loc[mouse_drug_data[\"Mouse ID\"] != \"g989\", :]\n",
    "clean_clinical_trial_data = clinical_trial_data.loc[clinical_trial_data[\"Mouse ID\"] != \"g989\", :]\n",
    "\n",
    "# Combine the data into a single dataset\n",
    "# Display the data table for preview\n",
    "\n",
    "drugData = pd.merge(clean_mouse_drug_data, clean_clinical_trial_data, on=\"Mouse ID\", how=\"outer\")\n",
    "drugData.head(20)"
   ]
  },
  {
   "cell_type": "markdown",
   "metadata": {},
   "source": [
    "## Tumor Response to Treatment"
   ]
  },
  {
   "cell_type": "code",
   "execution_count": null,
   "metadata": {},
   "outputs": [],
   "source": [
    "# Store the Mean Tumor Volume Data Grouped by Drug and Timepoint \n",
    "groupedDrugData = drugData.groupby([\"Drug\", \"Timepoint\"])\n",
    "\n",
    "drugAvgs = groupedDrugData.mean()\n",
    "drugAvgs.head(15)\n"
   ]
  },
  {
   "cell_type": "code",
   "execution_count": null,
   "metadata": {
    "scrolled": true
   },
   "outputs": [],
   "source": [
    "drugList = [\"Capomulin\", \"Infubinol\", \"Ketapril\", \"Placebo\"]\n",
    "\n",
    "timepoints = np.arange(0, 50, 5)\n",
    "\n",
    "tumorVolAvg = drugAvgs[\"Tumor Volume (mm3)\"]\n",
    "\n",
    "capo_tumorVolAvg = tumorVolAvg.loc[\"Capomulin\", :]\n",
    "infu_tumorVolAvg = tumorVolAvg.loc[\"Infubinol\", :]\n",
    "keta_tumorVolAvg = tumorVolAvg.loc[\"Ketapril\", :]\n",
    "plac_tumorVolAvg = tumorVolAvg.loc[\"Placebo\", :]\n",
    "\n",
    "capo_tumorVolAvgPlot = plt.plot(timepoints, capo_tumorVolAvg, marker = \"o\", label = \"Capomulin\", alpha = .75, color = \"red\")\n",
    "infu_tumorVolAvgPlot = plt.plot(timepoints, infu_tumorVolAvg, marker = \"^\", label = \"Infubinol\", alpha = .75, color = \"blue\")\n",
    "keta_tumorVolAvgPlot = plt.plot(timepoints, keta_tumorVolAvg, marker = \"s\", label = \"Ketapril\", alpha = .75, color = \"green\")\n",
    "plac_tumorVolAvgPlot = plt.plot(timepoints, plac_tumorVolAvg, marker = \"D\", label = \"Placebo\", alpha = .75, color = \"black\")\n",
    "\n",
    "ax = plt.axes()        \n",
    "ax.yaxis.grid()\n",
    "plt.title(\"Tumor Response to Treatment\")\n",
    "plt.xlabel(\"Time (Days)\")\n",
    "plt.ylabel(\"Tumor Volume (mm3)\")\n",
    "plt.legend(loc=\"best\")\n",
    "plt.tight_layout()\n",
    "plt.show()"
   ]
  },
  {
   "cell_type": "code",
   "execution_count": null,
   "metadata": {},
   "outputs": [],
   "source": [
    "# Store the Standard Error of Tumor Volumes Grouped by Drug and Timepoint\n",
    "tumorStdErrors = [stats.sem(drugData.loc[(drugData[\"Drug\"] == drug) \n",
    "                                         & (drugData[\"Timepoint\"] == time), \"Tumor Volume (mm3)\"]) \n",
    "                  for drug in drugList for time in timepoints]\n",
    "\n",
    "capo_tumorStdErrors = [tumorStdErrors[i] for i in range(10)]\n",
    "infu_tumorStdErrors = [tumorStdErrors[i] for i in range(10, 20)]\n",
    "keta_tumorStdErrors = [tumorStdErrors[i] for i in range(20, 30)]\n",
    "plac_tumorStdErrors = [tumorStdErrors[i] for i in range(30, 40)]\n",
    "\n",
    "capo_tumorErrorPlot = plt.errorbar(timepoints, capo_tumorVolAvg, capo_tumorStdErrors, marker = \"o\", linestyle=\"None\", label = \"Capomulin\", linewidth = .75, alpha = .75, color = \"red\")\n",
    "infu_tumorErrorPlot = plt.errorbar(timepoints, infu_tumorVolAvg, infu_tumorStdErrors, marker = \"^\", linestyle=\"None\", label = \"Infubinol\", linewidth = .75, alpha = .75, color = \"blue\")\n",
    "keta_tumorErrorPlot = plt.errorbar(timepoints, keta_tumorVolAvg, keta_tumorStdErrors, marker = \"s\", linestyle=\"None\", label = \"Ketapril\", linewidth = .75, alpha = .75, color = \"green\")\n",
    "plac_tumorErrorPlot = plt.errorbar(timepoints, plac_tumorVolAvg, plac_tumorStdErrors, marker = \"D\", linestyle=\"None\", label = \"Placebo\", linewidth = .75, alpha = .75, color = \"black\")\n",
    "ax = plt.axes()        \n",
    "ax.yaxis.grid()\n",
    "\n",
    "plt.title(\"Tumor Response to Treatment\")\n",
    "plt.xlabel(\"Time (Days)\")\n",
    "plt.ylabel(\"Tumor Volume (mm3)\")\n",
    "plt.legend(loc=\"best\")\n",
    "plt.tight_layout()\n",
    "plt.show()"
   ]
  },
  {
   "cell_type": "markdown",
   "metadata": {},
   "source": [
    "## Metastatic Response to Treatment"
   ]
  },
  {
   "cell_type": "code",
   "execution_count": null,
   "metadata": {},
   "outputs": [],
   "source": [
    "# Store the Mean Met. Site Data Grouped by Drug and Timepoint \n",
    "#list metastatic sites avg by drug and timepoint \n",
    "metastaticAvg = drugAvgs[\"Metastatic Sites\"]\n",
    "\n",
    "#separate metastatic avg list by drug\n",
    "capo_metastaticAvg = metastaticAvg.loc[\"Capomulin\", :]\n",
    "infu_metastaticAvg = metastaticAvg.loc[\"Infubinol\", :]\n",
    "keta_metastaticAvg = metastaticAvg.loc[\"Ketapril\", :]\n",
    "plac_metastaticAvg = metastaticAvg.loc[\"Placebo\", :]\n",
    "\n",
    "#plot metastatic avg over time\n",
    "capo_metastaticAvgPlot = plt.plot(timepoints, capo_metastaticAvg, marker = \"o\", label = \"Capomulin\", linewidth = .75, alpha = .75, color = \"red\")\n",
    "infu_metastaticAvgPlot = plt.plot(timepoints, infu_metastaticAvg, marker = \"^\", label = \"Infubinol\", linewidth = .75, alpha = .75, color = \"blue\")\n",
    "keta_metastaticAvgPlot = plt.plot(timepoints, keta_metastaticAvg, marker = \"s\", label = \"Ketapril\", linewidth = .75, alpha = .75, color = \"green\")\n",
    "plac_metastaticAvgPlot = plt.plot(timepoints, plac_metastaticAvg, marker = \"D\", label = \"Placebo\", linewidth = .75, alpha = .75, color = \"black\")\n",
    "\n",
    "#formatting and titles\n",
    "plt.title(\"Metastatic Spread During Treatment\")\n",
    "plt.xlabel(\"Treatment Duration (Days)\")\n",
    "plt.ylabel(\"Met. Sites\")\n",
    "plt.legend(loc=\"best\")\n",
    "ax = plt.axes()        \n",
    "ax.yaxis.grid()\n",
    "plt.tight_layout()\n",
    "plt.show()"
   ]
  },
  {
   "cell_type": "code",
   "execution_count": null,
   "metadata": {},
   "outputs": [],
   "source": [
    "# Store the Standard Error associated with Met. Sites Grouped by Drug and Timepoint \n",
    "#find std errors for each drug and timepoint\n",
    "metastaticStdErrors = [stats.sem(drugData.loc[(drugData[\"Drug\"] == drug) \n",
    "                                         & (drugData[\"Timepoint\"] == time), \"Metastatic Sites\"]) \n",
    "                  for drug in drugList for time in timepoints]\n",
    "\n",
    "#separate std errors by drug\n",
    "capo_metastaticStdErrors = [metastaticStdErrors[i] for i in range(10)]\n",
    "infu_metastaticStdErrors = [metastaticStdErrors[i] for i in range(10, 20)]\n",
    "keta_metastaticStdErrors = [metastaticStdErrors[i] for i in range(20, 30)]\n",
    "plac_metastaticStdErrors = [metastaticStdErrors[i] for i in range(30, 40)]\n",
    "\n",
    "#plot metastatic avg with error bars\n",
    "capo_metastaticErrorPlot = plt.errorbar(timepoints, capo_metastaticAvg, capo_metastaticStdErrors, marker = \"o\", linestyle=\"None\", label = \"Capomulin\", linewidth = .75, alpha = .75, color = \"red\")\n",
    "infu_metastaticErrorPlot = plt.errorbar(timepoints, infu_metastaticAvg, infu_metastaticStdErrors, marker = \"^\", linestyle=\"None\", label = \"Infubinol\", linewidth = .75, alpha = .75, color = \"blue\")\n",
    "keta_metastaticErrorPlot = plt.errorbar(timepoints, keta_metastaticAvg, keta_metastaticStdErrors, marker = \"s\", linestyle=\"None\", label = \"Ketapril\", linewidth = .75, alpha = .75, color = \"green\")\n",
    "plac_metastaticErrorPlot = plt.errorbar(timepoints, plac_metastaticAvg, plac_metastaticStdErrors, marker = \"D\", linestyle=\"None\", label = \"Placebo\", linewidth = .75, alpha = .75, color = \"black\")\n",
    "\n",
    "#formatting and titles\n",
    "plt.title(\"Metastatic Spread During Treatment\")\n",
    "plt.xlabel(\"Treatment Duration (Days)\")\n",
    "plt.ylabel(\"Met. Sites\")\n",
    "plt.legend(loc=\"best\")\n",
    "plt.grid(alpha = .4)\n",
    "plt.tight_layout()\n",
    "plt.show()"
   ]
  },
  {
   "cell_type": "markdown",
   "metadata": {},
   "source": [
    "## Survival Rates"
   ]
  },
  {
   "cell_type": "code",
   "execution_count": null,
   "metadata": {},
   "outputs": [],
   "source": [
    "# Store the Count of Mice Grouped by Drug and Timepoint (W can pass any metric)\n",
    "drugCounts = groupedDrugData.count()\n",
    "mouseCounts = drugCounts[\"Mouse ID\"]\n",
    "#list mouse count by drug and timepoint\n",
    "mouseCounts = pd.DataFrame(mouseCounts)\n",
    "mouseCounts = mouseCounts.rename(columns={\"Mouse ID\": \"Mouse Count\"})\n",
    "mouseCounts.head(15)"
   ]
  },
  {
   "cell_type": "code",
   "execution_count": null,
   "metadata": {},
   "outputs": [],
   "source": [
    "# Minor Data Munging to Re-Format the Data Frames\n",
    "#separate mouse count list by drug\n",
    "capo_mouseCounts = mouseCounts.loc[\"Capomulin\", :]\n",
    "infu_mouseCounts = mouseCounts.loc[\"Infubinol\", :]\n",
    "keta_mouseCounts = mouseCounts.loc[\"Ketapril\", :]\n",
    "plac_mouseCounts = mouseCounts.loc[\"Placebo\", :]\n",
    "\n",
    "#convert mouse counts to % of starting mice\n",
    "capo_survivalPerc = capo_mouseCounts / capo_mouseCounts.iloc[0, 0] * 100\n",
    "infu_survivalPerc = infu_mouseCounts / infu_mouseCounts.iloc[0, 0] * 100\n",
    "keta_survivalPerc = keta_mouseCounts / keta_mouseCounts.iloc[0, 0] * 100\n",
    "plac_survivalPerc = plac_mouseCounts / plac_mouseCounts.iloc[0, 0] * 100\n",
    "\n",
    "#plot each drug's mouse count over time\n",
    "capo_tumorVolAvgPlot = plt.plot(timepoints, capo_survivalPerc, marker = \"o\", label = \"Capomulin\", linewidth = .75, alpha = .75, color = \"red\")\n",
    "infu_tumorVolAvgPlot = plt.plot(timepoints, infu_survivalPerc, marker = \"^\", label = \"Infubinol\", linewidth = .75, alpha = .75, color = \"blue\")\n",
    "keta_tumorVolAvgPlot = plt.plot(timepoints, keta_survivalPerc, marker = \"s\", label = \"Ketapril\", linewidth = .75, alpha = .75, color = \"green\")\n",
    "plac_tumorVolAvgPlot = plt.plot(timepoints, plac_survivalPerc, marker = \"D\", label = \"Placebo\", linewidth = .75, alpha = .75, color = \"black\")\n",
    "\n",
    "#formatting and titles\n",
    "plt.title(\"Survival During Treatment\")\n",
    "plt.xlabel(\"Time (Days)\")\n",
    "plt.ylabel(\"Survival Rate (%)\")\n",
    "plt.legend(loc=\"best\")\n",
    "plt.grid(alpha = .4)\n",
    "plt.tight_layout()\n",
    "plt.show()"
   ]
  },
  {
   "cell_type": "markdown",
   "metadata": {},
   "source": [
    "![Metastatic Spread During Treatment](../Images/survival.png)"
   ]
  },
  {
   "cell_type": "markdown",
   "metadata": {},
   "source": [
    "## Summary Bar Graph"
   ]
  },
  {
   "cell_type": "code",
   "execution_count": null,
   "metadata": {},
   "outputs": [],
   "source": [
    "# Calculate the percent changes for each drug\n",
    "capo_tumorPercChange = (capo_tumorVolAvg[9] / capo_tumorVolAvg[0] * 100) - 100\n",
    "infu_tumorPercChange = (infu_tumorVolAvg[9] / infu_tumorVolAvg[0] * 100) - 100\n",
    "keta_tumorPercChange = (keta_tumorVolAvg[9] / keta_tumorVolAvg[0] * 100) - 100\n",
    "plac_tumorPercChange = (plac_tumorVolAvg[9] / plac_tumorVolAvg[0] * 100) - 100\n",
    "\n",
    "#list tumor % changes\n",
    "tumorPercList = [capo_tumorPercChange, infu_tumorPercChange, keta_tumorPercChange, plac_tumorPercChange]\n",
    "\n",
    "#create table with drug and tumor % change\n",
    "tumorPercTable = pd.DataFrame({\"Drug\": drugList, \"Tumor Percent Change\": tumorPercList})\n",
    "tumorPercTable"
   ]
  },
  {
   "cell_type": "code",
   "execution_count": null,
   "metadata": {},
   "outputs": [],
   "source": [
    "# Splice the data between passing and failing drugs\n",
    "#plot tumor % table as bar chart\n",
    "tumorBarChart = plt.bar(tumorPercTable[\"Drug\"], tumorPercTable[\"Tumor Percent Change\"])\n",
    "\n",
    "#format color and position of text based on positive or negative change\n",
    "for i in range(len(drugList)):\n",
    "    if tumorPercList[i] < 0:\n",
    "        tumorBarChart[i].set_color(\"green\")\n",
    "        percText = format(tumorPercList[i] / 100, \".0%\")\n",
    "        plt.text(-.2 + i, -5, percText)\n",
    "    else:\n",
    "        tumorBarChart[i].set_color(\"red\")\n",
    "        percText = format(tumorPercList[i] / 100, \".0%\")\n",
    "        plt.text(-.2 + i, 2, percText, color = \"w\")\n",
    "        \n",
    "#formatting and titles\n",
    "plt.hlines(0, -.5, 3.5, alpha=0.25)\n",
    "plt.xlim(-.5, 3.5)\n",
    "plt.title(\"Tumor Change Over 45 Day Treatment\")\n",
    "plt.xlabel(\"Drug\")\n",
    "plt.ylabel(\"% Tumor Volume Change\")\n",
    "plt.tight_layout()\n",
    "plt.show()\n"
   ]
  },
  {
   "cell_type": "markdown",
   "metadata": {},
   "source": [
    "![Metastatic Spread During Treatment](../Images/change.png)"
   ]
  }
 ],
 "metadata": {
  "anaconda-cloud": {},
  "kernelspec": {
   "display_name": "Python 3",
   "language": "python",
   "name": "python3"
  },
  "language_info": {
   "codemirror_mode": {
    "name": "ipython",
    "version": 3
   },
   "file_extension": ".py",
   "mimetype": "text/x-python",
   "name": "python",
   "nbconvert_exporter": "python",
   "pygments_lexer": "ipython3",
   "version": "3.7.4"
  }
 },
 "nbformat": 4,
 "nbformat_minor": 1
}
